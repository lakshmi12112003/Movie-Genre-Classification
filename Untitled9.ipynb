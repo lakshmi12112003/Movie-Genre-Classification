{
  "nbformat": 4,
  "nbformat_minor": 0,
  "metadata": {
    "colab": {
      "provenance": []
    },
    "kernelspec": {
      "name": "python3",
      "display_name": "Python 3"
    },
    "language_info": {
      "name": "python"
    }
  },
  "cells": [
    {
      "cell_type": "code",
      "source": [
        "# Install Kaggle and download dataset\n",
        "!pip install kaggle\n",
        "!mkdir -p ~/.kaggle\n",
        "!cp kaggle.json ~/.kaggle/\n",
        "!chmod 600 ~/.kaggle/kaggle.json\n",
        "\n",
        "# Download the dataset\n",
        "!kaggle datasets download -d hijest/genre-classification-dataset-imdb\n",
        "!unzip -o genre-classification-dataset-imdb.zip\n"
      ],
      "metadata": {
        "colab": {
          "base_uri": "https://localhost:8080/"
        },
        "id": "DvIBLYQvUjjC",
        "outputId": "4b4520c7-b103-4c8c-d515-357581059b2a"
      },
      "execution_count": 6,
      "outputs": [
        {
          "output_type": "stream",
          "name": "stdout",
          "text": [
            "Requirement already satisfied: kaggle in /usr/local/lib/python3.10/dist-packages (1.6.17)\n",
            "Requirement already satisfied: six>=1.10 in /usr/local/lib/python3.10/dist-packages (from kaggle) (1.17.0)\n",
            "Requirement already satisfied: certifi>=2023.7.22 in /usr/local/lib/python3.10/dist-packages (from kaggle) (2024.12.14)\n",
            "Requirement already satisfied: python-dateutil in /usr/local/lib/python3.10/dist-packages (from kaggle) (2.8.2)\n",
            "Requirement already satisfied: requests in /usr/local/lib/python3.10/dist-packages (from kaggle) (2.32.3)\n",
            "Requirement already satisfied: tqdm in /usr/local/lib/python3.10/dist-packages (from kaggle) (4.67.1)\n",
            "Requirement already satisfied: python-slugify in /usr/local/lib/python3.10/dist-packages (from kaggle) (8.0.4)\n",
            "Requirement already satisfied: urllib3 in /usr/local/lib/python3.10/dist-packages (from kaggle) (2.2.3)\n",
            "Requirement already satisfied: bleach in /usr/local/lib/python3.10/dist-packages (from kaggle) (6.2.0)\n",
            "Requirement already satisfied: webencodings in /usr/local/lib/python3.10/dist-packages (from bleach->kaggle) (0.5.1)\n",
            "Requirement already satisfied: text-unidecode>=1.3 in /usr/local/lib/python3.10/dist-packages (from python-slugify->kaggle) (1.3)\n",
            "Requirement already satisfied: charset-normalizer<4,>=2 in /usr/local/lib/python3.10/dist-packages (from requests->kaggle) (3.4.0)\n",
            "Requirement already satisfied: idna<4,>=2.5 in /usr/local/lib/python3.10/dist-packages (from requests->kaggle) (3.10)\n",
            "cp: cannot stat 'kaggle.json': No such file or directory\n",
            "Dataset URL: https://www.kaggle.com/datasets/hijest/genre-classification-dataset-imdb\n",
            "License(s): other\n",
            "genre-classification-dataset-imdb.zip: Skipping, found more recently modified local copy (use --force to force download)\n",
            "Archive:  genre-classification-dataset-imdb.zip\n",
            "  inflating: Genre Classification Dataset/description.txt  \n",
            "  inflating: Genre Classification Dataset/test_data.txt  \n",
            "  inflating: Genre Classification Dataset/test_data_solution.txt  \n",
            "  inflating: Genre Classification Dataset/train_data.txt  \n"
          ]
        }
      ]
    },
    {
      "cell_type": "code",
      "source": [
        "import pandas as pd\n",
        "\n",
        "# Check contents of the extracted folder\n",
        "!ls \"Genre Classification Dataset\"\n",
        "\n",
        "# Load training data\n",
        "train_file = \"Genre Classification Dataset/train_data.txt\"\n",
        "df = pd.read_csv(train_file, delimiter='\\t', names=[\"Plot\", \"Genre\"])\n",
        "\n",
        "# Inspect the data\n",
        "print(df.head())\n",
        "print(f\"Dataset contains {df.shape[0]} rows and {df.shape[1]} columns.\")\n"
      ],
      "metadata": {
        "colab": {
          "base_uri": "https://localhost:8080/"
        },
        "id": "5-z4sSG2UoB4",
        "outputId": "92a5233b-f3ab-4aaf-ed17-0fb7bcacaf26"
      },
      "execution_count": 7,
      "outputs": [
        {
          "output_type": "stream",
          "name": "stdout",
          "text": [
            "description.txt  test_data_solution.txt  test_data.txt\ttrain_data.txt\n",
            "                                                Plot  Genre\n",
            "0  1 ::: Oscar et la dame rose (2009) ::: drama :...    NaN\n",
            "1  2 ::: Cupid (1997) ::: thriller ::: A brother ...    NaN\n",
            "2  3 ::: Young, Wild and Wonderful (1980) ::: adu...    NaN\n",
            "3  4 ::: The Secret Sin (1915) ::: drama ::: To h...    NaN\n",
            "4  5 ::: The Unrecovered (2007) ::: drama ::: The...    NaN\n",
            "Dataset contains 54214 rows and 2 columns.\n"
          ]
        }
      ]
    },
    {
      "cell_type": "code",
      "source": [
        "# Drop missing values\n",
        "df.dropna(inplace=True)\n",
        "\n",
        "# Convert text to lowercase\n",
        "df['Plot'] = df['Plot'].str.lower()\n",
        "\n",
        "# Display class distribution\n",
        "print(df['Genre'].value_counts())\n"
      ],
      "metadata": {
        "colab": {
          "base_uri": "https://localhost:8080/"
        },
        "id": "Y9dNySg-UsE_",
        "outputId": "5b0f2e04-6dd0-4ef0-f526-e3b09206a427"
      },
      "execution_count": 8,
      "outputs": [
        {
          "output_type": "stream",
          "name": "stdout",
          "text": [
            "Series([], Name: count, dtype: int64)\n"
          ]
        }
      ]
    },
    {
      "cell_type": "code",
      "source": [
        "print(df.empty)  # Should return False if the DataFrame is not empty\n"
      ],
      "metadata": {
        "colab": {
          "base_uri": "https://localhost:8080/"
        },
        "id": "Gk8oGDFDXp6p",
        "outputId": "53c4b3a2-fbcb-4be3-905c-037e6b0cc50e"
      },
      "execution_count": 12,
      "outputs": [
        {
          "output_type": "stream",
          "name": "stdout",
          "text": [
            "True\n"
          ]
        }
      ]
    },
    {
      "cell_type": "code",
      "source": [
        "print(df.shape)  # Should return (rows, columns)\n"
      ],
      "metadata": {
        "colab": {
          "base_uri": "https://localhost:8080/"
        },
        "id": "dPBLX1iBXr0O",
        "outputId": "4e1fecfe-f16b-4885-eda1-77810b50e455"
      },
      "execution_count": 13,
      "outputs": [
        {
          "output_type": "stream",
          "name": "stdout",
          "text": [
            "(0, 2)\n"
          ]
        }
      ]
    },
    {
      "cell_type": "code",
      "source": [
        "print(df['Plot'].isna().sum(), df['Genre'].isna().sum())  # Count NaN values\n",
        "print(df['Plot'].head(), df['Genre'].head())  # Check the content\n"
      ],
      "metadata": {
        "colab": {
          "base_uri": "https://localhost:8080/"
        },
        "id": "aY0aCGn6Xuo3",
        "outputId": "af047b26-2220-4bd6-dff5-7d5fa5f29c06"
      },
      "execution_count": 14,
      "outputs": [
        {
          "output_type": "stream",
          "name": "stdout",
          "text": [
            "0 0\n",
            "Series([], Name: Plot, dtype: object) Series([], Name: Genre, dtype: float64)\n"
          ]
        }
      ]
    },
    {
      "cell_type": "code",
      "source": [
        "print(df.head())  # Ensure it contains data\n"
      ],
      "metadata": {
        "colab": {
          "base_uri": "https://localhost:8080/"
        },
        "id": "_eOu0Rd4XxcG",
        "outputId": "00f87e50-0de2-4bd2-9793-0674b0b7127c"
      },
      "execution_count": 15,
      "outputs": [
        {
          "output_type": "stream",
          "name": "stdout",
          "text": [
            "Empty DataFrame\n",
            "Columns: [Plot, Genre]\n",
            "Index: []\n"
          ]
        }
      ]
    },
    {
      "cell_type": "code",
      "source": [
        "# Replace missing values for 'Plot' and 'Genre'\n",
        "df.loc[:, 'Plot'] = df['Plot'].fillna('')\n",
        "df.loc[:, 'Genre'] = df['Genre'].fillna('unknown')\n"
      ],
      "metadata": {
        "id": "VfWBH-HKYyPe"
      },
      "execution_count": 22,
      "outputs": []
    },
    {
      "cell_type": "code",
      "source": [
        "df.loc[:, 'Genre'] = df['Genre'].fillna('unknown').astype(str)\n"
      ],
      "metadata": {
        "id": "8rw00h4HYz6c"
      },
      "execution_count": 23,
      "outputs": []
    },
    {
      "cell_type": "code",
      "source": [
        "# Check for required columns\n",
        "if 'Plot' not in df.columns or 'Genre' not in df.columns:\n",
        "    raise ValueError(\"The DataFrame must contain 'Plot' and 'Genre' columns.\")\n",
        "\n",
        "# Replace NaN values and enforce data types\n",
        "df.loc[:, 'Plot'] = df['Plot'].fillna('')\n",
        "df.loc[:, 'Genre'] = df['Genre'].fillna('unknown').astype(str)\n",
        "\n",
        "# Remove rows with empty 'Plot'\n",
        "df = df[df['Plot'].str.strip() != '']\n",
        "\n",
        "# Handle cases where DataFrame might be empty\n",
        "if df.empty:\n",
        "    raise ValueError(\"The DataFrame is empty after preprocessing.\")\n",
        "\n",
        "# Convert 'Plot' to lowercase\n",
        "df.loc[:, 'Plot'] = df['Plot'].str.lower()\n",
        "\n",
        "# Split data into training and testing sets\n",
        "from sklearn.model_selection import train_test_split\n",
        "X_train, X_test, y_train, y_test = train_test_split(\n",
        "    df['Plot'], df['Genre'], test_size=0.1, random_state=42\n",
        ")\n",
        "\n",
        "# Summary\n",
        "print(f\"Training samples: {len(X_train)}, Testing samples: {len(X_test)}\")\n"
      ],
      "metadata": {
        "colab": {
          "base_uri": "https://localhost:8080/"
        },
        "id": "83kMTGhsY2sr",
        "outputId": "e612015c-c97d-47bd-97be-27b8009189ac"
      },
      "execution_count": 24,
      "outputs": [
        {
          "output_type": "stream",
          "name": "stdout",
          "text": [
            "Training samples: 48792, Testing samples: 5422\n"
          ]
        }
      ]
    },
    {
      "cell_type": "code",
      "source": [
        "from sklearn.feature_extraction.text import TfidfVectorizer\n",
        "from sklearn.naive_bayes import MultinomialNB\n",
        "from sklearn.model_selection import train_test_split\n",
        "from sklearn.metrics import classification_report, accuracy_score\n",
        "\n",
        "# Check for required columns\n",
        "if 'Plot' not in df.columns or 'Genre' not in df.columns:\n",
        "    raise ValueError(\"The DataFrame must contain 'Plot' and 'Genre' columns.\")\n",
        "\n",
        "# Replace NaN values and enforce data types\n",
        "df.loc[:, 'Plot'] = df['Plot'].fillna('')\n",
        "df.loc[:, 'Genre'] = df['Genre'].fillna('unknown').astype(str)\n",
        "\n",
        "# Remove rows with empty 'Plot'\n",
        "df = df[df['Plot'].str.strip() != '']\n",
        "\n",
        "# Handle cases where DataFrame might be empty\n",
        "if df.empty:\n",
        "    raise ValueError(\"The DataFrame is empty after preprocessing.\")\n",
        "\n",
        "# Convert 'Plot' to lowercase\n",
        "df.loc[:, 'Plot'] = df['Plot'].str.lower()\n",
        "\n",
        "# Split data into training and testing sets\n",
        "X_train, X_test, y_train, y_test = train_test_split(\n",
        "    df['Plot'], df['Genre'], test_size=0.1, random_state=42\n",
        ")\n",
        "\n",
        "# TF-IDF Vectorization: Convert text data to numerical features\n",
        "vectorizer = TfidfVectorizer(stop_words='english', max_features=10000)\n",
        "X_train_tfidf = vectorizer.fit_transform(X_train)\n",
        "X_test_tfidf = vectorizer.transform(X_test)\n",
        "\n",
        "# Train Naive Bayes\n",
        "nb_classifier = MultinomialNB()\n",
        "nb_classifier.fit(X_train_tfidf, y_train)\n",
        "\n",
        "# Predict and evaluate\n",
        "nb_predictions = nb_classifier.predict(X_test_tfidf)\n",
        "print(\"Naive Bayes Classifier:\")\n",
        "print(f\"Accuracy: {accuracy_score(y_test, nb_predictions)}\")\n",
        "print(classification_report(y_test, nb_predictions))\n",
        "\n",
        "# Summary\n",
        "print(f\"Training samples: {len(X_train)}, Testing samples: {len(X_test)}\")\n",
        "\n"
      ],
      "metadata": {
        "colab": {
          "base_uri": "https://localhost:8080/"
        },
        "id": "OfdCQzzAY6V1",
        "outputId": "14d14ca8-f4c5-4ca1-d295-54f8eb23c9c7"
      },
      "execution_count": 27,
      "outputs": [
        {
          "output_type": "stream",
          "name": "stdout",
          "text": [
            "Naive Bayes Classifier:\n",
            "Accuracy: 1.0\n",
            "              precision    recall  f1-score   support\n",
            "\n",
            "     unknown       1.00      1.00      1.00      5422\n",
            "\n",
            "    accuracy                           1.00      5422\n",
            "   macro avg       1.00      1.00      1.00      5422\n",
            "weighted avg       1.00      1.00      1.00      5422\n",
            "\n",
            "Training samples: 48792, Testing samples: 5422\n"
          ]
        }
      ]
    },
    {
      "cell_type": "code",
      "source": [],
      "metadata": {
        "id": "yA4tQFcwdK6d"
      },
      "execution_count": 51,
      "outputs": []
    },
    {
      "cell_type": "code",
      "source": [
        "\n"
      ],
      "metadata": {
        "id": "e5ub7BTzeyZS"
      },
      "execution_count": null,
      "outputs": []
    }
  ]
}